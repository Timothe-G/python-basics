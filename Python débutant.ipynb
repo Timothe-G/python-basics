{
 "cells": [
  {
   "cell_type": "code",
   "execution_count": 2,
   "id": "2ab17f51",
   "metadata": {},
   "outputs": [
    {
     "name": "stdout",
     "output_type": "stream",
     "text": [
      "Python 3.11.8\r\n"
     ]
    }
   ],
   "source": [
    "!python --version"
   ]
  },
  {
   "cell_type": "markdown",
   "id": "ce6587fb",
   "metadata": {},
   "source": [
    "## Fonction f de carré :"
   ]
  },
  {
   "cell_type": "code",
   "execution_count": 3,
   "id": "f99f0ea9",
   "metadata": {},
   "outputs": [],
   "source": [
    "def f(x):\n",
    "    return x*x"
   ]
  },
  {
   "cell_type": "code",
   "execution_count": 4,
   "id": "ddf51b18",
   "metadata": {},
   "outputs": [
    {
     "data": {
      "text/plain": [
       "4"
      ]
     },
     "execution_count": 4,
     "metadata": {},
     "output_type": "execute_result"
    }
   ],
   "source": [
    "f(2)"
   ]
  },
  {
   "cell_type": "code",
   "execution_count": 5,
   "id": "1ea6b77b",
   "metadata": {},
   "outputs": [
    {
     "ename": "TypeError",
     "evalue": "can't multiply sequence by non-int of type 'str'",
     "output_type": "error",
     "traceback": [
      "\u001b[0;31m---------------------------------------------------------------------------\u001b[0m",
      "\u001b[0;31mTypeError\u001b[0m                                 Traceback (most recent call last)",
      "Cell \u001b[0;32mIn[5], line 1\u001b[0m\n\u001b[0;32m----> 1\u001b[0m \u001b[43mf\u001b[49m\u001b[43m(\u001b[49m\u001b[38;5;124;43m\"\u001b[39;49m\u001b[38;5;124;43mtest\u001b[39;49m\u001b[38;5;124;43m\"\u001b[39;49m\u001b[43m)\u001b[49m\n",
      "Cell \u001b[0;32mIn[3], line 2\u001b[0m, in \u001b[0;36mf\u001b[0;34m(x)\u001b[0m\n\u001b[1;32m      1\u001b[0m \u001b[38;5;28;01mdef\u001b[39;00m \u001b[38;5;21mf\u001b[39m(x):\n\u001b[0;32m----> 2\u001b[0m     \u001b[38;5;28;01mreturn\u001b[39;00m \u001b[43mx\u001b[49m\u001b[38;5;241;43m*\u001b[39;49m\u001b[43mx\u001b[49m\n",
      "\u001b[0;31mTypeError\u001b[0m: can't multiply sequence by non-int of type 'str'"
     ]
    }
   ],
   "source": [
    "f(\"test\")"
   ]
  },
  {
   "cell_type": "markdown",
   "id": "a0f987d8",
   "metadata": {},
   "source": [
    "## Fonction f2 modulo :"
   ]
  },
  {
   "cell_type": "code",
   "execution_count": 13,
   "id": "4777272f",
   "metadata": {},
   "outputs": [],
   "source": [
    "def f2(x):\n",
    "    if x%2==0:\n",
    "        print(\"Il est pair\")\n",
    "    else:\n",
    "        print(\"Il n'est pas pair\")"
   ]
  },
  {
   "cell_type": "code",
   "execution_count": 14,
   "id": "130e7b6e",
   "metadata": {},
   "outputs": [
    {
     "name": "stdout",
     "output_type": "stream",
     "text": [
      "Il est pair\n"
     ]
    }
   ],
   "source": [
    "f2(4)"
   ]
  },
  {
   "cell_type": "code",
   "execution_count": 15,
   "id": "2c6fa769",
   "metadata": {},
   "outputs": [
    {
     "name": "stdout",
     "output_type": "stream",
     "text": [
      "Il n'est pas pair\n"
     ]
    }
   ],
   "source": [
    "f2(5)"
   ]
  },
  {
   "cell_type": "code",
   "execution_count": 16,
   "id": "8dbf1611",
   "metadata": {},
   "outputs": [],
   "source": [
    "t=[1,2,3,4]"
   ]
  },
  {
   "cell_type": "markdown",
   "id": "31417d7e",
   "metadata": {},
   "source": [
    "## Test de dictionnaire :"
   ]
  },
  {
   "cell_type": "code",
   "execution_count": 17,
   "id": "3e17701c",
   "metadata": {},
   "outputs": [],
   "source": [
    "d={\n",
    "    \"a\":\"texte\",\n",
    "    \"b\":2\n",
    "}"
   ]
  },
  {
   "cell_type": "code",
   "execution_count": 18,
   "id": "a171648c",
   "metadata": {},
   "outputs": [
    {
     "data": {
      "text/plain": [
       "'texte'"
      ]
     },
     "execution_count": 18,
     "metadata": {},
     "output_type": "execute_result"
    }
   ],
   "source": [
    "d[\"a\"]"
   ]
  },
  {
   "cell_type": "markdown",
   "id": "bcd83aff",
   "metadata": {},
   "source": [
    "## Test de boucle :"
   ]
  },
  {
   "cell_type": "code",
   "execution_count": 20,
   "id": "c8615d8c",
   "metadata": {},
   "outputs": [],
   "source": [
    "t = list()\n",
    "for i in range(0,10):\n",
    "    t.append(i)"
   ]
  },
  {
   "cell_type": "code",
   "execution_count": 21,
   "id": "3674c9bd",
   "metadata": {},
   "outputs": [
    {
     "data": {
      "text/plain": [
       "[0, 1, 2, 3, 4, 5, 6, 7, 8, 9]"
      ]
     },
     "execution_count": 21,
     "metadata": {},
     "output_type": "execute_result"
    }
   ],
   "source": [
    "t"
   ]
  },
  {
   "cell_type": "code",
   "execution_count": 22,
   "id": "9f684d68",
   "metadata": {},
   "outputs": [
    {
     "data": {
      "text/plain": [
       "[0, 1, 2, 3, 4, 5, 6, 7, 8, 9]"
      ]
     },
     "execution_count": 22,
     "metadata": {},
     "output_type": "execute_result"
    }
   ],
   "source": [
    "[ i for i in range(10) ]"
   ]
  },
  {
   "cell_type": "markdown",
   "id": "426d5ace",
   "metadata": {},
   "source": [
    "## Modules/Packages :"
   ]
  },
  {
   "cell_type": "code",
   "execution_count": 23,
   "id": "0beafb05",
   "metadata": {},
   "outputs": [
    {
     "name": "stdout",
     "output_type": "stream",
     "text": [
      "Package                        Version\n",
      "------------------------------ ------------\n",
      "aardwolf                       0.2.8\n",
      "adblockparser                  0.7\n",
      "aesedb                         0.1.3\n",
      "aiocmd                         0.1.2\n",
      "aioconsole                     0.7.0\n",
      "aiodns                         3.2.0\n",
      "aiofiles                       24.1.0\n",
      "aiohttp                        3.9.1\n",
      "aiomultiprocess                0.9.0\n",
      "aioquic                        0.9.25\n",
      "aiosignal                      1.3.1\n",
      "aiosmb                         0.4.4\n",
      "aiosqlite                      0.20.0\n",
      "aiowinreg                      0.0.7\n",
      "ajpy                           0.0.5\n",
      "alembic                        1.13.2.dev0\n",
      "altgraph                       0.17.4\n",
      "amqp                           5.2.0\n",
      "aniso8601                      9.0.1\n",
      "annotated-types                0.7.0\n",
      "anyio                          4.4.0\n",
      "anyjson                        0.3.3\n",
      "apispec                        6.6.1\n",
      "apispec-webframeworks          0.5.2\n",
      "appdirs                        1.4.4\n",
      "arc4                           0.3.0\n",
      "argcomplete                    3.4.0\n",
      "argon2-cffi                    21.1.0\n",
      "arrow                          1.3.0\n",
      "asciitree                      0.3.3\n",
      "asgiref                        3.8.1\n",
      "asn1crypto                     1.5.1\n",
      "asn1tools                      0.166.0\n",
      "asttokens                      2.4.1\n",
      "asyauth                        0.0.20\n",
      "async-timeout                  4.0.3\n",
      "asysocks                       0.2.12\n",
      "attrs                          23.2.0\n",
      "autobahn                       22.7.1\n",
      "autocommand                    2.2.2\n",
      "Automat                        24.8.1\n",
      "Babel                          2.14.0\n",
      "backoff                        2.2.1\n",
      "base58                         1.0.3\n",
      "bcrypt                         4.1.2\n",
      "beautifulsoup4                 4.12.3\n",
      "beniget                        0.4.1\n",
      "bidict                         0.23.1\n",
      "billiard                       4.2.0\n",
      "binwalk                        2.3.3\n",
      "bitstruct                      8.19.0\n",
      "bleach                         6.1.0\n",
      "blinker                        1.8.2\n",
      "bluepy                         1.3.0\n",
      "bottle                         0.12.25\n",
      "Bottleneck                     1.3.8\n",
      "Brlapi                         0.8.5\n",
      "Brotli                         1.1.0\n",
      "catfish                        4.16.4\n",
      "cbor                           1.0.0\n",
      "celery                         5.4.0\n",
      "censys                         2.2.13\n",
      "certifi                        2024.6.2\n",
      "certipy-ad                     4.8.2\n",
      "cffi                           1.16.0\n",
      "chardet                        5.2.0\n",
      "charset-normalizer             3.3.2\n",
      "cheroot                        10.0.0+ds1\n",
      "CherryPy                       18.9.0\n",
      "cherrypy-cors                  1.6\n",
      "cli_helpers                    2.3.1\n",
      "click                          8.1.7\n",
      "click-didyoumean               0.3.1\n",
      "click-plugins                  1.1.1\n",
      "click-repl                     0.3.0\n",
      "cmd2                           2.4.3+ds\n",
      "colorama                       0.4.6\n",
      "comm                           0.2.1\n",
      "configobj                      5.0.8\n",
      "constantly                     23.10.4\n",
      "contourpy                      1.0.7\n",
      "coverage                       7.2.7\n",
      "crackmapexec                   5.4.0\n",
      "croniter                       2.0.1\n",
      "cryptography                   41.0.7\n",
      "cssselect                      1.2.0\n",
      "cvss                           2.4\n",
      "cycler                         0.12.1\n",
      "dbus-python                    1.3.2\n",
      "debugpy                        1.8.5\n",
      "decorator                      5.1.1\n",
      "defusedxml                     0.7.1\n",
      "Deprecated                     1.2.14\n",
      "dicttoxml                      1.7.16\n",
      "diskcache                      5.6.3\n",
      "distlib                        0.3.8\n",
      "distro                         1.9.0\n",
      "Django                         4.2.15\n",
      "dnslib                         0.9.25\n",
      "dnspython                      2.6.1\n",
      "dnsrecon                       1.2.0\n",
      "docker                         7.1.0\n",
      "docker-compose                 1.29.2\n",
      "dockerpty                      0.4.1\n",
      "docopt                         0.6.2\n",
      "donut-shellcode                0.9.3\n",
      "dropbox                        12.0.2\n",
      "dsinternals                    1.2.4\n",
      "ecdsa                          0.19.0\n",
      "elasticsearch                  7.17.6\n",
      "email_validator                2.2.0\n",
      "ephem                          4.1.5\n",
      "et-xmlfile                     1.0.1\n",
      "executing                      2.0.1\n",
      "ExifRead                       3.0.0\n",
      "faraday-agent-dispatcher       3.2.1\n",
      "faraday-agent-parameters-types 1.5.1\n",
      "faraday-cli                    2.1.8\n",
      "faraday-plugins                1.19.0\n",
      "faradaysec                     5.6.1\n",
      "fastapi                        0.110.0\n",
      "fastjsonschema                 2.20.0\n",
      "feedparser                     6.0.11\n",
      "fierce                         1.5.0\n",
      "filedepot                      0.5.2\n",
      "filelock                       3.15.4\n",
      "filteralchemy                  0.1.0\n",
      "flasgger                       0.9.7.2.dev2\n",
      "Flask                          3.0.3\n",
      "Flask-Celery-Helper            1.1.0\n",
      "Flask-Classful                 0.15.0.dev1\n",
      "Flask-KVSession-fork           0.6.4\n",
      "Flask-Limiter                  3.5.1\n",
      "Flask-Login                    0.6.3\n",
      "Flask-Mail                     0.9.1\n",
      "Flask-Principal                0.4.0\n",
      "Flask-RESTful                  0.3.10\n",
      "Flask-SocketIO                 5.3.6\n",
      "Flask-SQLAlchemy               3.0.3\n",
      "Flask-WTF                      1.2.1\n",
      "flatbuffers                    23.5.26\n",
      "fonttools                      4.46.0\n",
      "frozenlist                     1.4.0\n",
      "fs                             2.4.16\n",
      "gast                           0.5.2\n",
      "GDAL                           3.8.3\n",
      "gevent                         23.9.1\n",
      "gevent-websocket               0.10.1\n",
      "gitdb                          4.0.11\n",
      "GitPython                      3.1.37\n",
      "gpg                            1.18.0\n",
      "greenbone-feed-sync            24.3.0\n",
      "greenlet                       3.0.1\n",
      "gssapi                         1.8.3\n",
      "h11                            0.14.0\n",
      "h2                             4.1.0\n",
      "hashID                         3.1.4\n",
      "hatch-vcs                      0.4.0\n",
      "hatchling                      1.25.0\n",
      "hpack                          4.0.0\n",
      "html2text                      2024.2.26\n",
      "html5lib                       1.1\n",
      "httpagentparser                1.9.1\n",
      "httpcore                       1.0.4\n",
      "httpx                          0.27.0\n",
      "humanize                       4.10.0\n",
      "hupper                         1.12\n",
      "hyperframe                     6.0.0\n",
      "hyperlink                      21.0.0\n",
      "idna                           3.6\n",
      "impacket                       0.12.0.dev1\n",
      "importlib_metadata             8.4.0\n",
      "importlib-resources            6.0.1\n",
      "incremental                    24.7.2\n",
      "inflect                        7.3.1\n",
      "invoke                         2.2.0\n",
      "ipwhois                        1.2.0\n",
      "IPy                            1.01\n",
      "ipykernel                      6.29.5\n",
      "ipython                        8.20.0\n",
      "ipython-genutils               0.2.0\n",
      "ipywidgets                     8.1.1\n",
      "itsdangerous                   2.2.0\n",
      "jaraco.collections             5.0.1\n",
      "jaraco.context                 6.0.0\n",
      "jaraco.functools               4.0.2\n",
      "jaraco.text                    4.0.0\n",
      "jedi                           0.19.1\n",
      "Jinja2                         3.1.3\n",
      "jq                             1.6.0\n",
      "jsonpointer                    2.4\n",
      "jsonschema                     4.19.2\n",
      "jsonschema-specifications      2023.12.1\n",
      "jupyter_client                 8.6.2\n",
      "jupyter_core                   5.7.2\n",
      "jupyterlab-pygments            0.2.2\n",
      "kaitaistruct                   0.10\n",
      "kali-tweaks                    2023.3.2\n",
      "KismetCaptureBtGeiger          2021.7.1\n",
      "KismetCaptureFreaklabsZigbee   2018.7.0\n",
      "KismetCaptureRtl433            2020.10.1\n",
      "KismetCaptureRtladsb           2020.10.1\n",
      "KismetCaptureRtlamr            2020.10.1\n",
      "kiwisolver                     1.4.5\n",
      "kombu                          5.4.0\n",
      "ldap3                          2.9.1\n",
      "ldapdomaindump                 0.9.4\n",
      "lightdm-gtk-greeter-settings   1.2.3\n",
      "limits                         3.13.0\n",
      "log-symbols                    0.0.14\n",
      "louis                          3.31.0\n",
      "lsassy                         3.1.11\n",
      "lxml                           5.1.0\n",
      "lz4                            4.0.2+dfsg\n",
      "macholib                       1.16.3\n",
      "Mako                           1.3.5.dev0\n",
      "Markdown                       3.7\n",
      "markdown-it-py                 3.0.0\n",
      "MarkupSafe                     2.1.5\n",
      "marshmallow                    3.20.1\n",
      "marshmallow-sqlalchemy         1.1.0\n",
      "masky                          0.2.0\n",
      "matplotlib                     3.6.3\n",
      "matplotlib-inline              0.1.6\n",
      "mdurl                          0.1.2\n",
      "mechanize                      0.4.10\n",
      "minidump                       0.0.21\n",
      "minikerberos                   0.4.4\n",
      "mistune                        3.0.2\n",
      "mistune0                       0.8.4\n",
      "mitmproxy                      10.2.2\n",
      "mnemonic                       0.19\n",
      "more-itertools                 10.3.0\n",
      "mpmath                         1.3.0\n",
      "msgpack                        1.0.3\n",
      "msldap                         0.5.10\n",
      "multidict                      6.0.4\n",
      "mysqlclient                    1.4.6\n",
      "nassl                          5.0.1\n",
      "nbclient                       0.8.0\n",
      "nbconvert                      7.16.4\n",
      "nbformat                       5.9.1\n",
      "neo4j                          5.2.dev0\n",
      "neobolt                        1.7.17\n",
      "neotime                        1.7.4\n",
      "nest-asyncio                   1.5.4\n",
      "netaddr                        0.10.1\n",
      "netifaces                      0.11.0\n",
      "networkx                       3.2.1\n",
      "notebook                       6.4.13\n",
      "notus-scanner                  22.6.4\n",
      "nplusone                       1.0.0\n",
      "ntlm-auth                      1.5.0\n",
      "ntpsec                         1.2.2\n",
      "numexpr                        2.10.1\n",
      "numpy                          1.26.4\n",
      "odfpy                          1.4.2\n",
      "olefile                        0.46\n",
      "onboard                        1.4.1\n",
      "openpyxl                       3.1.5\n",
      "ordered-set                    4.1.0\n",
      "oscrypto                       1.3.0\n",
      "ospd-openvas                   22.7.1\n",
      "packaging                      24.1\n",
      "paho-mqtt                      2.0.0\n",
      "pandas                         2.1.4+dfsg\n",
      "pandocfilters                  1.5.1\n",
      "paramiko                       3.4.1\n",
      "parso                          0.8.3\n",
      "passlib                        1.7.4\n",
      "Paste                          3.10.0\n",
      "PasteDeploy                    3.1.0\n",
      "PasteScript                    3.6.0\n",
      "patator                        1.0\n",
      "pathspec                       0.12.1\n",
      "pcapy                          0.11.5.dev0\n",
      "pefile                         2023.2.7\n",
      "pendulum                       2.1.2\n",
      "pexpect                        4.9.0\n",
      "pgcli                          4.1.0\n",
      "pgspecial                      2.1.2\n",
      "phonenumbers                   8.12.57\n",
      "pillow                         10.3.0\n",
      "pip                            24.2\n",
      "plaster                        1.0\n",
      "plaster-pastedeploy            0.5\n",
      "platformdirs                   4.2.2\n",
      "pluggy                         1.5.0\n",
      "pluginbase                     1.0.1\n",
      "ply                            3.11\n",
      "portend                        3.2.0\n",
      "prettytable                    3.10.1\n",
      "prometheus-client              0.19.0\n",
      "prompt-toolkit                 3.0.47\n",
      "protobuf                       4.21.12\n",
      "psutil                         5.9.8\n",
      "psycogreen                     1.0.1\n",
      "psycopg                        3.2.1\n",
      "psycopg2                       2.9.9\n",
      "ptyprocess                     0.7.0\n",
      "publicsuffix2                  2.20191221\n",
      "publicsuffixlist               0.9.3\n",
      "pure-eval                      0.2.2\n",
      "py                             1.11.0\n",
      "py-sneakers                    1.0.1\n",
      "py-ubjson                      0.16.1\n",
      "pyasn1                         0.6.0\n",
      "pyasn1_modules                 0.4.0\n",
      "pyasyncore                     1.0.2\n",
      "pycairo                        1.26.0\n",
      "pycares                        4.4.0\n",
      "pycparser                      2.22\n",
      "pycryptodomex                  3.20.0\n",
      "pycurl                         7.45.2\n",
      "pydantic                       2.4.2\n",
      "pydantic_core                  2.11.0\n",
      "PyDispatcher                   2.0.5\n",
      "pydot                          2.0.0\n",
      "pyee                           11.1.0\n",
      "pyExploitDb                    0.2.34\n",
      "pyfiglet                       1.0.2\n",
      "pygame                         2.5.2\n",
      "pygexf                         0.2.2\n",
      "Pygments                       2.18.0\n",
      "PyGObject                      3.46.0\n",
      "pygraphviz                     1.13\n",
      "PyHamcrest                     2.1.0\n",
      "pyinotify                      0.9.6\n",
      "pyinstaller                    6.9.0\n",
      "pyinstaller-hooks-contrib      2024.8\n",
      "PyJWT                          2.7.0\n",
      "pylnk3                         0.4.2\n",
      "pylsqpack                      0.3.18\n",
      "pymssql                        2.2.11\n",
      "PyMySQL                        1.1.1\n",
      "PyNaCl                         1.5.0\n",
      "PyOpenGL                       3.1.7\n",
      "pyOpenSSL                      24.2.1\n",
      "pyotp                          2.9.0\n",
      "pyparsing                      3.1.2\n",
      "pypdf                          4.3.1\n",
      "PyPDF2                         2.12.1\n",
      "pyperclip                      1.8.2\n",
      "pypng                          0.20231004.0\n",
      "pyppeteer                      1.0.1\n",
      "pypsrp                         0.8.1\n",
      "pypykatz                       0.6.6\n",
      "PyQRCode                       1.2.1\n",
      "PyQt5                          5.15.10\n",
      "PyQt5-sip                      12.13.0\n",
      "PyQt6                          6.6.1\n",
      "PyQt6-sip                      13.6.0\n",
      "pyqtgraph                      0.13.7\n",
      "pyramid                        2.0\n",
      "pyrsistent                     0.20.0\n",
      "PySecretSOCKS                  0.9.1\n",
      "pyserial                       3.5\n",
      "pyserial-asyncio               0.6\n",
      "pyShodan                       0.2.6\n",
      "pysmi                          0.3.4\n",
      "pysnmp                         4.4.12\n",
      "PySocks                        1.7.1\n",
      "pyspnego                       0.8.0\n",
      "python-apt                     2.7.5\n",
      "python-dateutil                2.9.0\n",
      "python-docx                    1.1.2\n",
      "python-dotenv                  1.0.1\n",
      "python-engineio                4.9.0\n",
      "python-gnupg                   0.5.2\n",
      "python-gvm                     24.7.0\n",
      "python-jose                    3.3.0\n",
      "python-magic                   0.4.27\n",
      "python-memcached               1.60\n",
      "python-multipart               0.0.9\n",
      "python-owasp-zap-v2.4          0.0.20\n",
      "python-pptx                    0.6.18\n",
      "python-slugify                 8.0.4\n",
      "python-snappy                  0.5.3\n",
      "python-socketio                5.11.2\n",
      "python-status                  1.0.1\n",
      "python-whois                   0.9.3\n",
      "pythran                        0.16.1\n",
      "PyTrie                         0.4.0\n",
      "pytz                           2024.1\n",
      "pytzdata                       2020.1\n",
      "pyVNC                          0.1\n",
      "pywerview                      0.3.3\n",
      "pyxdg                          0.28\n",
      "PyYAML                         6.0.1\n",
      "pyzmq                          24.0.1\n",
      "qasync                         0.27.1\n",
      "qrcode                         7.4.2\n",
      "redis                          4.3.4\n",
      "referencing                    0.35.1\n",
      "repoze.lru                     0.7\n",
      "requests                       2.31.0\n",
      "requests-file                  2.0.0\n",
      "requests-ntlm                  1.1.0\n",
      "retrying                       1.3.3\n",
      "rfc3987                        1.3.8\n",
      "rich                           13.7.1\n",
      "Routes                         2.5.1\n",
      "rpds-py                        0.12.0\n",
      "rq                             1.16.2\n",
      "rsa                            4.9\n",
      "ruamel.yaml                    0.18.6\n",
      "ruamel.yaml.clib               0.2.8\n",
      "scapy                          2.5.0\n",
      "scipy                          1.12.0\n",
      "secure                         0.3.0\n",
      "Send2Trash                     1.8.2\n",
      "service-identity               24.1.0\n",
      "setproctitle                   1.3.3\n",
      "setuptools                     70.3.0\n",
      "setuptools-scm                 8.1.0\n",
      "sgmllib3k                      1.0.0\n",
      "sh                             1.14.2\n",
      "shodan                         1.31.0\n",
      "shtab                          1.7.1\n",
      "simple-rest-client             1.1.3\n",
      "simplejson                     3.19.2\n",
      "simplekv                       0.14.1\n",
      "six                            1.16.0\n",
      "slowapi                        0.1.4\n",
      "smbmap                         1.10.4\n",
      "smmap                          6.0.0\n",
      "sniffio                        1.3.1\n",
      "sortedcontainers               2.4.0\n",
      "soupsieve                      2.6\n",
      "spinners                       0.0.24\n",
      "SQLAlchemy                     1.4.50\n",
      "sqlalchemy-schemadisplay       1.3\n",
      "SQLAlchemy-Utc                 0.14.0\n",
      "sqlparse                       0.5.1\n",
      "sslyze                         5.2.0\n",
      "stack-data                     0.6.3\n",
      "starlette                      0.38.2\n",
      "stone                          3.3.7\n",
      "sympy                          1.12.1\n",
      "syslog-rfc5424-formatter       1.2.3\n",
      "tables                         3.7.0\n",
      "tabulate                       0.9.0\n",
      "Tempita                        0.5.2\n",
      "tempora                        5.7.0\n",
      "termcolor                      2.4.0\n",
      "terminado                      0.18.1\n",
      "terminaltables                 3.1.10\n",
      "texttable                      1.7.0\n",
      "theHarvester                   4.5.1\n",
      "tinycss2                       1.3.0\n",
      "tld                            0.13\n",
      "tldextract                     5.1.2\n",
      "tls-parser                     1.2.2\n",
      "tornado                        6.4.1\n",
      "tqdm                           4.66.5\n",
      "traitlets                      5.14.3\n",
      "translationstring              1.4\n",
      "trove-classifiers              2024.4.10\n",
      "Twisted                        24.3.0\n",
      "txaio                          23.1.1\n",
      "typeguard                      4.3.0\n",
      "types-aiofiles                 23.2\n",
      "types-aws-xray-sdk             2.12\n",
      "types-beautifulsoup4           4.12\n",
      "types-bleach                   6.1\n",
      "types-boltons                  23.0\n",
      "types-boto                     2.49\n",
      "types-braintree                4.24\n",
      "types-cachetools               5.3\n",
      "types-caldav                   1.3\n",
      "types-cffi                     1.16\n",
      "types-chevron                  0.14\n",
      "types-click-default-group      1.2\n",
      "types-click-spinner            0.1\n",
      "types-colorama                 0.4\n",
      "types-commonmark               0.9\n",
      "types-console-menu             0.8\n",
      "types-croniter                 2.0\n",
      "types-dateparser               1.1\n",
      "types-decorator                5.1\n",
      "types-Deprecated               1.2\n",
      "types-dockerfile-parse         2.0\n",
      "types-docopt                   0.6\n",
      "types-docutils                 0.20\n",
      "types-editdistance             0.6\n",
      "types-entrypoints              0.4\n",
      "types-ExifRead                 3.0\n",
      "types-first                    2.0\n",
      "types-flake8-2020              1.8\n",
      "types-flake8-bugbear           23.9.16\n",
      "types-flake8-builtins          2.2\n",
      "types-flake8-docstrings        1.7\n",
      "types-flake8-plugin-utils      1.3\n",
      "types-flake8-rst-docstrings    0.3\n",
      "types-flake8-simplify          0.21\n",
      "types-flake8-typing-imports    1.15\n",
      "types-Flask-Cors               4.0\n",
      "types-Flask-Migrate            4.0\n",
      "types-Flask-SocketIO           5.3\n",
      "types-fpdf2                    2.7.4\n",
      "types-gdb                      12.1\n",
      "types-google-cloud-ndb         2.2\n",
      "types-greenlet                 3.0\n",
      "types-hdbcli                   2.18\n",
      "types-html5lib                 1.1\n",
      "types-httplib2                 0.22\n",
      "types-humanfriendly            10.0\n",
      "types-ibm-db                   3.2\n",
      "types-influxdb-client          1.38\n",
      "types-inifile                  0.4\n",
      "types-JACK-Client              0.5\n",
      "types-jmespath                 1.0\n",
      "types-jsonschema               4.19\n",
      "types-keyboard                 0.13\n",
      "types-ldap3                    2.9\n",
      "types-libsass                  0.22\n",
      "types-Markdown                 3.5\n",
      "types-mock                     5.1\n",
      "types-mypy-extensions          1.0\n",
      "types-mysqlclient              2.2\n",
      "types-netaddr                  0.9\n",
      "types-oauthlib                 3.2\n",
      "types-openpyxl                 3.1\n",
      "types-opentracing              2.4\n",
      "types-paho-mqtt                1.6\n",
      "types-paramiko                 3.3\n",
      "types-parsimonious             0.10\n",
      "types-passlib                  1.7\n",
      "types-passpy                   1.0\n",
      "types-peewee                   3.17\n",
      "types-pep8-naming              0.13\n",
      "types-pexpect                  4.8\n",
      "types-pika-ts                  1.3\n",
      "types-Pillow                   10.1\n",
      "types-playsound                1.3\n",
      "types-pluggy                   1.2.0\n",
      "types-polib                    1.2\n",
      "types-portpicker               1.6\n",
      "types-protobuf                 4.24\n",
      "types-psutil                   5.9\n",
      "types-psycopg2                 2.9\n",
      "types-pyasn1                   0.5\n",
      "types-pyaudio                  0.2\n",
      "types-PyAutoGUI                0.9\n",
      "types-pycocotools              2.0\n",
      "types-pycurl                   7.45.2\n",
      "types-pyfarmhash               0.3\n",
      "types-pyflakes                 3.1\n",
      "types-Pygments                 2.16\n",
      "types-pyinstaller              6.1\n",
      "types-pyjks                    20.0\n",
      "types-PyMySQL                  1.1\n",
      "types-pynput                   1.7\n",
      "types-pyOpenSSL                23.3\n",
      "types-pyRFC3339                1.1\n",
      "types-PyScreeze                0.1.29\n",
      "types-pyserial                 3.5\n",
      "types-pysftp                   0.2\n",
      "types-pytest-lazy-fixture      0.6\n",
      "types-python-crontab           3.0\n",
      "types-python-datemath          1.5\n",
      "types-python-dateutil          2.8\n",
      "types-python-gflags            3.1\n",
      "types-python-jose              3.3\n",
      "types-python-nmap              0.7\n",
      "types-python-slugify           8.0\n",
      "types-python-xlib              0.33\n",
      "types-pytz                     2023.3.post1\n",
      "types-pywin32                  306\n",
      "types-pyxdg                    0.28\n",
      "types-PyYAML                   6.0\n",
      "types-qrcode                   7.4\n",
      "types-redis                    4.6.0\n",
      "types-regex                    2023.10.3\n",
      "types-requests                 2.31\n",
      "types-requests-oauthlib        1.3\n",
      "types-retry                    0.9\n",
      "types-s2clientprotocol         5\n",
      "types-seaborn                  0.13\n",
      "types-Send2Trash               1.8\n",
      "types-setuptools               68.2\n",
      "types-simplejson               3.19\n",
      "types-singledispatch           4.1\n"
     ]
    },
    {
     "name": "stdout",
     "output_type": "stream",
     "text": [
      "types-six                      1.16\r\n",
      "types-slumber                  0.7\r\n",
      "types-stdlib-list              0.8\r\n",
      "types-stripe                   3.5\r\n",
      "types-tabulate                 0.9\r\n",
      "types-tensorflow               2.12\r\n",
      "types-toml                     0.10\r\n",
      "types-toposort                 1.10\r\n",
      "types-tqdm                     4.66\r\n",
      "types-translationstring        1.4\r\n",
      "types-tree-sitter              0.20.1\r\n",
      "types-tree-sitter-languages    1.8\r\n",
      "types-ttkthemes                3.2\r\n",
      "types-tzlocal                  5.1\r\n",
      "types-ujson                    5.8\r\n",
      "types-untangle                 1.2\r\n",
      "types-usersettings             1.1\r\n",
      "types-uWSGI                    2.0\r\n",
      "types-vobject                  0.9\r\n",
      "types-waitress                 2.1\r\n",
      "types-WebOb                    1.8\r\n",
      "types-whatthepatch             1.0\r\n",
      "types-workalendar              17.0\r\n",
      "types-WTForms                  3.1\r\n",
      "types-xmltodict                0.13\r\n",
      "types-zstd                     1.5\r\n",
      "types-zxcvbn                   4.4\r\n",
      "typing_extensions              4.12.2\r\n",
      "u-msgpack-python               2.8.0\r\n",
      "ufoLib2                        0.16.0\r\n",
      "ujson                          5.10.0\r\n",
      "unicrypto                      0.0.10\r\n",
      "Unidecode                      1.3.8\r\n",
      "uritemplate                    4.1.1\r\n",
      "urllib3                        2.0.7\r\n",
      "urlscan                        0.9.9\r\n",
      "urwid                          2.6.15\r\n",
      "uvicorn                        0.30.6\r\n",
      "uvloop                         0.19.0\r\n",
      "validators                     0.20.0\r\n",
      "venusian                       3.1.0\r\n",
      "vine                           5.1.0\r\n",
      "virtualenv                     20.26.2\r\n",
      "wafw00f                        2.2.0\r\n",
      "wapiti3                        3.0.4\r\n",
      "wcwidth                        0.2.13\r\n",
      "webargs                        8.5.0\r\n",
      "webcolors                      1.13\r\n",
      "webencodings                   0.5.1\r\n",
      "WebOb                          1.8.7\r\n",
      "websocket-client               1.7.0\r\n",
      "websockets                     10.4\r\n",
      "websockify                     0.10.0\r\n",
      "Werkzeug                       3.0.4\r\n",
      "wfuzz                          3.1.0\r\n",
      "wheel                          0.44.0\r\n",
      "widgetsnbextension             4.0.9\r\n",
      "wifite                         2.7.0\r\n",
      "winacl                         0.1.9\r\n",
      "wrapt                          1.15.0\r\n",
      "wsaccel                        0.6.3\r\n",
      "wsproto                        1.2.0\r\n",
      "WTForms                        3.1.2\r\n",
      "xdg                            5\r\n",
      "xlrd                           2.0.1\r\n",
      "XlsxWriter                     3.1.9\r\n",
      "xlutils                        2.0.0\r\n",
      "xlwt                           1.3.0\r\n",
      "xmltodict                      0.13.0\r\n",
      "yara-python                    4.5.1\r\n",
      "yarl                           1.9.4\r\n",
      "yaswfp                         0.9.3\r\n",
      "zc.lockfile                    3.0.post1\r\n",
      "zipp                           3.20.1\r\n",
      "zlib-wrapper                   0.1.3\r\n",
      "zombie-imp                     0.0.2\r\n",
      "zope.deprecation               5.0\r\n",
      "zope.event                     5.0\r\n",
      "zope.interface                 6.4\r\n",
      "zstandard                      0.23.0.dev0\r\n"
     ]
    }
   ],
   "source": [
    "!pip list"
   ]
  },
  {
   "cell_type": "code",
   "execution_count": 27,
   "id": "9b894a21",
   "metadata": {},
   "outputs": [
    {
     "name": "stdout",
     "output_type": "stream",
     "text": [
      "pandas                         2.1.4+dfsg\r\n"
     ]
    }
   ],
   "source": [
    "!pip list | grep pandas"
   ]
  },
  {
   "cell_type": "markdown",
   "id": "c17b79f8",
   "metadata": {},
   "source": [
    "## Exceptions :"
   ]
  },
  {
   "cell_type": "code",
   "execution_count": 28,
   "id": "5f659558",
   "metadata": {},
   "outputs": [
    {
     "ename": "ZeroDivisionError",
     "evalue": "division by zero",
     "output_type": "error",
     "traceback": [
      "\u001b[0;31m---------------------------------------------------------------------------\u001b[0m",
      "\u001b[0;31mZeroDivisionError\u001b[0m                         Traceback (most recent call last)",
      "Cell \u001b[0;32mIn[28], line 1\u001b[0m\n\u001b[0;32m----> 1\u001b[0m \u001b[38;5;241;43m5\u001b[39;49m\u001b[38;5;241;43m/\u001b[39;49m\u001b[38;5;241;43m0\u001b[39;49m\n",
      "\u001b[0;31mZeroDivisionError\u001b[0m: division by zero"
     ]
    }
   ],
   "source": [
    "5/0"
   ]
  },
  {
   "cell_type": "code",
   "execution_count": 31,
   "id": "7ab3c19b",
   "metadata": {},
   "outputs": [
    {
     "name": "stdout",
     "output_type": "stream",
     "text": [
      "Erreur\n"
     ]
    }
   ],
   "source": [
    "try:\n",
    "    5/0\n",
    "    print(\"Ok pas d'erreur\")\n",
    "except:\n",
    "    print(\"Erreur\")"
   ]
  },
  {
   "cell_type": "markdown",
   "id": "a9078dde",
   "metadata": {},
   "source": [
    "## Programmation objet :"
   ]
  },
  {
   "cell_type": "code",
   "execution_count": 33,
   "id": "8cbdc74e",
   "metadata": {},
   "outputs": [],
   "source": [
    "class Voiture:\n",
    "    \n",
    "    def __init__(self):\n",
    "        self.nom = \"Ferrari\""
   ]
  },
  {
   "cell_type": "code",
   "execution_count": 34,
   "id": "36e6be94",
   "metadata": {},
   "outputs": [],
   "source": [
    "ma_voiture = Voiture()"
   ]
  },
  {
   "cell_type": "code",
   "execution_count": 35,
   "id": "389c6170",
   "metadata": {},
   "outputs": [
    {
     "data": {
      "text/plain": [
       "'Ferrari'"
      ]
     },
     "execution_count": 35,
     "metadata": {},
     "output_type": "execute_result"
    }
   ],
   "source": [
    "ma_voiture.nom"
   ]
  },
  {
   "cell_type": "code",
   "execution_count": 36,
   "id": "38c980ef",
   "metadata": {},
   "outputs": [],
   "source": [
    "ma_voiture.modele = \"250\""
   ]
  },
  {
   "cell_type": "code",
   "execution_count": 37,
   "id": "aec2ee33",
   "metadata": {},
   "outputs": [
    {
     "data": {
      "text/plain": [
       "'250'"
      ]
     },
     "execution_count": 37,
     "metadata": {},
     "output_type": "execute_result"
    }
   ],
   "source": [
    "ma_voiture.modele"
   ]
  },
  {
   "cell_type": "code",
   "execution_count": null,
   "id": "473970f5",
   "metadata": {},
   "outputs": [],
   "source": []
  }
 ],
 "metadata": {
  "kernelspec": {
   "display_name": "Python 3 (ipykernel)",
   "language": "python",
   "name": "python3"
  },
  "language_info": {
   "codemirror_mode": {
    "name": "ipython",
    "version": 3
   },
   "file_extension": ".py",
   "mimetype": "text/x-python",
   "name": "python",
   "nbconvert_exporter": "python",
   "pygments_lexer": "ipython3",
   "version": "3.11.8"
  }
 },
 "nbformat": 4,
 "nbformat_minor": 5
}
