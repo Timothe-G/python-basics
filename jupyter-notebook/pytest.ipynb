{
 "cells": [
  {
   "cell_type": "code",
   "execution_count": 4,
   "id": "03b05615",
   "metadata": {},
   "outputs": [],
   "source": [
    "def add_5(x):\n",
    "    return x+5"
   ]
  },
  {
   "cell_type": "code",
   "execution_count": 5,
   "id": "02f02c14",
   "metadata": {},
   "outputs": [
    {
     "data": {
      "text/plain": [
       "10"
      ]
     },
     "execution_count": 5,
     "metadata": {},
     "output_type": "execute_result"
    }
   ],
   "source": [
    "add_5(5)"
   ]
  },
  {
   "cell_type": "code",
   "execution_count": 6,
   "id": "d407bdad",
   "metadata": {},
   "outputs": [],
   "source": [
    "def test_add_5():\n",
    "    assert add_5(5) == 10"
   ]
  },
  {
   "cell_type": "code",
   "execution_count": 9,
   "id": "63aba4ba",
   "metadata": {},
   "outputs": [],
   "source": [
    "assert 1+1==2"
   ]
  },
  {
   "cell_type": "code",
   "execution_count": 10,
   "id": "5c4ce75d",
   "metadata": {},
   "outputs": [],
   "source": [
    "def func(x):\n",
    "    return x + 1\n",
    "\n",
    "\n",
    "def test_answer():\n",
    "    assert func(3) == 5"
   ]
  },
  {
   "cell_type": "code",
   "execution_count": 11,
   "id": "df6031ce",
   "metadata": {},
   "outputs": [
    {
     "ename": "NameError",
     "evalue": "name 'pytest' is not defined",
     "output_type": "error",
     "traceback": [
      "\u001b[0;31m---------------------------------------------------------------------------\u001b[0m",
      "\u001b[0;31mNameError\u001b[0m                                 Traceback (most recent call last)",
      "Cell \u001b[0;32mIn[11], line 1\u001b[0m\n\u001b[0;32m----> 1\u001b[0m \u001b[43mpytest\u001b[49m\n",
      "\u001b[0;31mNameError\u001b[0m: name 'pytest' is not defined"
     ]
    }
   ],
   "source": [
    "pytest"
   ]
  },
  {
   "cell_type": "code",
   "execution_count": null,
   "id": "cc0ee55e",
   "metadata": {},
   "outputs": [],
   "source": []
  }
 ],
 "metadata": {
  "kernelspec": {
   "display_name": "Python 3 (ipykernel)",
   "language": "python",
   "name": "python3"
  },
  "language_info": {
   "codemirror_mode": {
    "name": "ipython",
    "version": 3
   },
   "file_extension": ".py",
   "mimetype": "text/x-python",
   "name": "python",
   "nbconvert_exporter": "python",
   "pygments_lexer": "ipython3",
   "version": "3.11.8"
  }
 },
 "nbformat": 4,
 "nbformat_minor": 5
}
