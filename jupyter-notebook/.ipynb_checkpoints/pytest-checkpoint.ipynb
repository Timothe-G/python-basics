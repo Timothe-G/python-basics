{
 "cells": [
  {
   "cell_type": "code",
   "execution_count": 4,
   "id": "eb4a3845",
   "metadata": {},
   "outputs": [],
   "source": [
    "def add_5(x):\n",
    "    return x+5"
   ]
  },
  {
   "cell_type": "code",
   "execution_count": 5,
   "id": "09c8df59",
   "metadata": {},
   "outputs": [
    {
     "data": {
      "text/plain": [
       "10"
      ]
     },
     "execution_count": 5,
     "metadata": {},
     "output_type": "execute_result"
    }
   ],
   "source": [
    "add_5(5)"
   ]
  },
  {
   "cell_type": "code",
   "execution_count": 6,
   "id": "bbc27f72",
   "metadata": {},
   "outputs": [],
   "source": [
    "def test_add_5():\n",
    "    assert add_5(5) == 10"
   ]
  },
  {
   "cell_type": "code",
   "execution_count": 9,
   "id": "3b4b516a",
   "metadata": {},
   "outputs": [],
   "source": [
    "assert 1+1==2"
   ]
  },
  {
   "cell_type": "code",
   "execution_count": null,
   "id": "d0ed1da3",
   "metadata": {},
   "outputs": [],
   "source": [
    "def func(x):\n",
    "    return x + 1\n",
    "\n",
    "\n",
    "def test_answer():\n",
    "    assert func(3) == 5"
   ]
  }
 ],
 "metadata": {
  "kernelspec": {
   "display_name": "Python 3 (ipykernel)",
   "language": "python",
   "name": "python3"
  },
  "language_info": {
   "codemirror_mode": {
    "name": "ipython",
    "version": 3
   },
   "file_extension": ".py",
   "mimetype": "text/x-python",
   "name": "python",
   "nbconvert_exporter": "python",
   "pygments_lexer": "ipython3",
   "version": "3.11.8"
  }
 },
 "nbformat": 4,
 "nbformat_minor": 5
}
